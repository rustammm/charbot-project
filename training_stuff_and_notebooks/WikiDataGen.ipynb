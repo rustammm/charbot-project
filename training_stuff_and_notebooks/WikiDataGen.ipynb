{
 "cells": [
  {
   "cell_type": "code",
   "execution_count": 8,
   "metadata": {},
   "outputs": [],
   "source": [
    "#!pip3 install git+https://github.com/aatimofeev/spacy_russian_tokenizer.git\n",
    "from spacy.lang.ru import Russian\n",
    "from tqdm import tqdm_notebook as tqdm"
   ]
  },
  {
   "cell_type": "code",
   "execution_count": 9,
   "metadata": {},
   "outputs": [],
   "source": [
    "MAKE_CHUNK = 1\n",
    "COUNT_CHUNKS = 2\n",
    "WIKI_SIZE = 967783 # make smaller, due to limits of machine 9677833"
   ]
  },
  {
   "cell_type": "code",
   "execution_count": 10,
   "metadata": {},
   "outputs": [],
   "source": [
    "\n",
    "block_sz = WIKI_SIZE / COUNT_CHUNKS\n",
    "start = int(MAKE_CHUNK * block_sz)\n",
    "end = int(start + block_sz)\n",
    "ps = []\n",
    "line_i = 0\n",
    "with open('service/data/wiki/wiki_big.txt') as f:\n",
    "    for i, line in enumerate(f):\n",
    "        if line_i >= end:\n",
    "                break \n",
    "        for x in line.split('.'):\n",
    "            if line_i >= start:\n",
    "                ps += [x]\n",
    "            line_i += 1\n",
    "            if line_i >= end:\n",
    "                break"
   ]
  },
  {
   "cell_type": "code",
   "execution_count": 11,
   "metadata": {},
   "outputs": [
    {
     "data": {
      "text/plain": [
       "64"
      ]
     },
     "execution_count": 11,
     "metadata": {},
     "output_type": "execute_result"
    }
   ],
   "source": [
    "import gc\n",
    "gc.collect()"
   ]
  },
  {
   "cell_type": "code",
   "execution_count": 12,
   "metadata": {},
   "outputs": [
    {
     "data": {
      "text/plain": [
       "483891"
      ]
     },
     "execution_count": 12,
     "metadata": {},
     "output_type": "execute_result"
    }
   ],
   "source": [
    "len(ps)"
   ]
  },
  {
   "cell_type": "code",
   "execution_count": 13,
   "metadata": {},
   "outputs": [
    {
     "data": {
      "application/vnd.jupyter.widget-view+json": {
       "model_id": "dc92befadb3a467b9aee94916b63f411",
       "version_major": 2,
       "version_minor": 0
      },
      "text/plain": [
       "HBox(children=(IntProgress(value=0, max=483891), HTML(value='')))"
      ]
     },
     "metadata": {},
     "output_type": "display_data"
    },
    {
     "name": "stdout",
     "output_type": "stream",
     "text": [
      "\n"
     ]
    }
   ],
   "source": [
    "import gensim\n",
    "from gensim.test.utils import datapath\n",
    "from collections import defaultdict\n",
    "wv_from_bin = gensim.models.Word2Vec.load(\"ru.bin\")\n",
    "\n",
    "\n",
    "docs_by_tokens = defaultdict(lambda : defaultdict(int))\n",
    "wv_by_token = {}\n",
    "\n",
    "nlp = Russian()\n",
    "\n",
    "\n",
    "\n",
    "for i, p in enumerate(tqdm(ps)):\n",
    "    p = p.lower()\n",
    "    doc = nlp(p)\n",
    "    tokens = [token.text for token in doc]    \n",
    "    for it in range(len(tokens)):\n",
    "        docs_by_tokens[tokens[it]][i] += 1\n",
    "        if it > 0:\n",
    "            docs_by_tokens[' '.join([tokens[it-1], tokens[it]])][i] += 1"
   ]
  },
  {
   "cell_type": "code",
   "execution_count": 14,
   "metadata": {},
   "outputs": [],
   "source": [
    "import json\n",
    "\n",
    "with open('wiki_texts{}.txt'.format(MAKE_CHUNK), 'w') as f:\n",
    "    json.dump(ps, f)\n",
    "    \n",
    "with open('wiki_doc_by_tokens{}.txt'.format(MAKE_CHUNK), 'w') as f:\n",
    "    json.dump(docs_by_tokens, f)"
   ]
  },
  {
   "cell_type": "code",
   "execution_count": null,
   "metadata": {},
   "outputs": [],
   "source": []
  },
  {
   "cell_type": "code",
   "execution_count": null,
   "metadata": {},
   "outputs": [],
   "source": []
  },
  {
   "cell_type": "code",
   "execution_count": null,
   "metadata": {},
   "outputs": [],
   "source": []
  }
 ],
 "metadata": {
  "kernelspec": {
   "display_name": "Python 3",
   "language": "python",
   "name": "python3"
  },
  "language_info": {
   "codemirror_mode": {
    "name": "ipython",
    "version": 3
   },
   "file_extension": ".py",
   "mimetype": "text/x-python",
   "name": "python",
   "nbconvert_exporter": "python",
   "pygments_lexer": "ipython3",
   "version": "3.6.5"
  }
 },
 "nbformat": 4,
 "nbformat_minor": 2
}
